{
 "cells": [
  {
   "cell_type": "markdown",
   "id": "ead450cd",
   "metadata": {},
   "source": [
    "1.遍历练习：写一个Python程序，输出1-100中所有奇数，并求这些50以内奇数的乘积。"
   ]
  },
  {
   "cell_type": "code",
   "execution_count": 3,
   "id": "37392c69",
   "metadata": {},
   "outputs": [
    {
     "name": "stdout",
     "output_type": "stream",
     "text": [
      "1 3 5 7 9 11 13 15 17 19 21 23 25 27 29 31 33 35 37 39 41 43 45 47 49 51 53 55 57 59 61 63 65 67 69 71 73 75 77 79 81 83 85 87 89 91 93 95 97 99 \n",
      "\n",
      "58435841445947272053455474390625\n"
     ]
    }
   ],
   "source": [
    "result=1\n",
    "for i in range (100):\n",
    "    if(i%2==1):\n",
    "        print(i,end=\" \")\n",
    "        if(i<=50):\n",
    "            result*=i\n",
    "print(\"\\n\")\n",
    "print(result)"
   ]
  },
  {
   "cell_type": "markdown",
   "id": "93c53303",
   "metadata": {},
   "source": [
    "2.循环练习：写一个Python程序，实现分别用for和while循环、数组切片实现对一个给定列表的倒排序输出。"
   ]
  },
  {
   "cell_type": "code",
   "execution_count": 17,
   "id": "3eb73b27",
   "metadata": {},
   "outputs": [
    {
     "name": "stdout",
     "output_type": "stream",
     "text": [
      "5 4 3 2 1 \n",
      "\n",
      "5 4 3 2 1 \n",
      "\n",
      "[5, 4, 3, 2, 1]\n"
     ]
    }
   ],
   "source": [
    "list=[1,2,3,4,5]\n",
    "for i in range (4,-1,-1):\n",
    "    print(list[i],end=\" \")\n",
    "print(\"\\n\")\n",
    "##########################\n",
    "j=4\n",
    "while(j>=0):\n",
    "    print(list[j],end=\" \")\n",
    "    j-=1\n",
    "print(\"\\n\")\n",
    "#########################\n",
    "print(list[::-1])"
   ]
  },
  {
   "cell_type": "markdown",
   "id": "e0b693d8",
   "metadata": {},
   "source": [
    "3.字符串练习：写一个Python程序，判断一个输入的字符串s，是否包含两个或两个以上连续出现的相同字符组成的字符串，并输出最长连续出现的字符长度。"
   ]
  },
  {
   "cell_type": "code",
   "execution_count": 81,
   "id": "f25d357d",
   "metadata": {},
   "outputs": [
    {
     "name": "stdout",
     "output_type": "stream",
     "text": [
      "abcccccc\n",
      "Yes\n",
      "6\n"
     ]
    }
   ],
   "source": [
    "temp,result=1,1\n",
    "a,b=\" \",\" \"\n",
    "s=str(input())\n",
    "for k in range(1,len(s)):\n",
    "    if(s[k-1]==s[k]):\n",
    "        b=s[k]\n",
    "        if(b != a):\n",
    "            a=s[k]\n",
    "            temp=1\n",
    "        temp+=1\n",
    "        if(temp>result):\n",
    "            result=temp\n",
    "        continue\n",
    "if(temp==1):\n",
    "    print(\"No\")\n",
    "else:\n",
    "    print(\"Yes\")\n",
    "    print(result)"
   ]
  },
  {
   "cell_type": "markdown",
   "id": "737bd765",
   "metadata": {},
   "source": [
    "4.字符串练习2: 写一个Ptyhon程序，输入一个字符串S，去掉其中所有空格后输出。"
   ]
  },
  {
   "cell_type": "code",
   "execution_count": 62,
   "id": "bd0bdee3",
   "metadata": {},
   "outputs": [
    {
     "name": "stdout",
     "output_type": "stream",
     "text": [
      "Data Science and Engineering\n",
      "DataScienceandEngineering"
     ]
    }
   ],
   "source": [
    "s=str(input())\n",
    "for i in range(len(s)):\n",
    "    if(s[i]!=\" \"):\n",
    "        print(s[i],end=\"\")"
   ]
  },
  {
   "cell_type": "markdown",
   "id": "b881aeea",
   "metadata": {},
   "source": [
    "\n",
    "\n",
    "\n",
    "\n"
   ]
  },
  {
   "cell_type": "markdown",
   "id": "545898ce",
   "metadata": {},
   "source": [
    "1.蒙特卡罗求积分\n",
    "​ 根据蒙特卡罗思想，用Python编写程序计算区间[0,1]上定积分：$\\int(x^3+x^2)dx$"
   ]
  },
  {
   "cell_type": "code",
   "execution_count": 70,
   "id": "7d736435",
   "metadata": {},
   "outputs": [
    {
     "name": "stdout",
     "output_type": "stream",
     "text": [
      "0.5830528\n"
     ]
    }
   ],
   "source": [
    "import random\n",
    "import math\n",
    "S=1.0*2.0 #2.0是x^3+x^2最大值\n",
    "\n",
    "epoches=10000000\n",
    "result=0\n",
    "\n",
    "for i in range (epoches):\n",
    "    x=random.uniform(0.0,1.0)\n",
    "    y=random.uniform(0.0,S)\n",
    "    if(y<=x**3+x**2):\n",
    "        result+=1\n",
    "print(result*S/epoches)"
   ]
  },
  {
   "cell_type": "markdown",
   "id": "029e08f4",
   "metadata": {},
   "source": [
    "2.结合本周理论课所学内容，使用三种方法求$\\sqrt{2}$的近似值"
   ]
  },
  {
   "cell_type": "code",
   "execution_count": 83,
   "id": "3fa6df25",
   "metadata": {},
   "outputs": [
    {
     "name": "stdout",
     "output_type": "stream",
     "text": [
      "1.4141800000027134 41418\n",
      "1.4142135623696959 35\n",
      "1.4142135623746899 4\n"
     ]
    }
   ],
   "source": [
    "import math\n",
    "\n",
    "def square_method1():\n",
    "    c=2\n",
    "    i=0\n",
    "    g=1\n",
    "    while(abs(g**2-c)>=0.0001):\n",
    "        g+=0.00001\n",
    "        i+=1\n",
    "    print(g,i)\n",
    "#循环迭代 逐步逼近\n",
    "\n",
    "def square_method2():\n",
    "    c=2\n",
    "    i=0\n",
    "    max=c\n",
    "    min=1\n",
    "    g=(min+max)/2\n",
    "    while(abs(g**2-c)>=0.00000000001):\n",
    "        if(g**2<c):\n",
    "            min=g\n",
    "        else :\n",
    "            max=g\n",
    "        g=(min+max)/2\n",
    "        i+=1\n",
    "    print(g,i)\n",
    "#二分查找 折半返回\n",
    "\n",
    "def square_method3():\n",
    "    c=2\n",
    "    g=c/2\n",
    "    i=0\n",
    "    while(abs(g**2-c)>=0.00000000001):\n",
    "        g=(g+c/g)/2\n",
    "        i+=1\n",
    "    print(g,i)\n",
    "#牛顿法：曲线切线，线性逼近\n",
    "\n",
    "square_method1()\n",
    "square_method2()\n",
    "square_method3()"
   ]
  },
  {
   "cell_type": "markdown",
   "id": "b219a896",
   "metadata": {},
   "source": [
    "3.（选做）至少使用三种方法求解$\\pi$的值，并比较他们的效率（精度保留在小数点后10位）"
   ]
  },
  {
   "cell_type": "code",
   "execution_count": 104,
   "id": "48f82e68",
   "metadata": {},
   "outputs": [
    {
     "name": "stdout",
     "output_type": "stream",
     "text": [
      "3.141592653519746 32\n",
      "3.141591653601028 954940\n",
      "3.141593653598774 999991\n"
     ]
    }
   ],
   "source": [
    "import math\n",
    "import random\n",
    "pi_0=3.14159265360\n",
    "#方法零 蒙特卡洛法，求单位圆1/4积分（不可行，收敛太太太太慢）\n",
    "#方法一 pi/2=1+1!/3+2!/3*5......\n",
    "def way1():\n",
    "    a=1\n",
    "    j=1\n",
    "    b=3\n",
    "    k=3\n",
    "    i=0\n",
    "    result=1\n",
    "    while(abs(2*result-pi_0)>=0.0000000001):\n",
    "        result+=a/b\n",
    "        j+=1\n",
    "        a*=j\n",
    "        k+=2\n",
    "        b*=k\n",
    "        i+=1\n",
    "    print(2*result,i)\n",
    "    \n",
    "#方法二 无穷级数逼近，1/n^2求和为pi^2/6\n",
    "def way2():\n",
    "    i=0\n",
    "    j=1\n",
    "    result=0\n",
    "    while(abs(math.sqrt(6*result)-pi_0)>=0.000001):  #级数收敛太慢，故减少了精度\n",
    "        result+=1/(j**2)\n",
    "        j+=1\n",
    "        i+=1\n",
    "    print(math.sqrt(6*result),i)\n",
    "#方法三  泰勒展开，arctan(1)=pi/4\n",
    "def way3():\n",
    "    i=1\n",
    "    a=-1\n",
    "    k=3\n",
    "    result=1\n",
    "    while(abs(4*result-pi_0)>=0.000001):#这个收敛也好慢。。。\n",
    "        result+=a/k\n",
    "        a*=-1\n",
    "        k+=2\n",
    "        i+=1\n",
    "    print(4*result,i)\n",
    "    \n",
    "    \n",
    "way1()\n",
    "way2()\n",
    "way3()"
   ]
  }
 ],
 "metadata": {
  "kernelspec": {
   "display_name": "Python 3 (ipykernel)",
   "language": "python",
   "name": "python3"
  },
  "language_info": {
   "codemirror_mode": {
    "name": "ipython",
    "version": 3
   },
   "file_extension": ".py",
   "mimetype": "text/x-python",
   "name": "python",
   "nbconvert_exporter": "python",
   "pygments_lexer": "ipython3",
   "version": "3.10.4"
  }
 },
 "nbformat": 4,
 "nbformat_minor": 5
}
